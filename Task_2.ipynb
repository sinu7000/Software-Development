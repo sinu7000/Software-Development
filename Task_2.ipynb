{
  "nbformat": 4,
  "nbformat_minor": 0,
  "metadata": {
    "colab": {
      "provenance": [],
      "authorship_tag": "ABX9TyPujv7yweEPZqRqCWRWnnWx",
      "include_colab_link": true
    },
    "kernelspec": {
      "name": "python3",
      "display_name": "Python 3"
    },
    "language_info": {
      "name": "python"
    }
  },
  "cells": [
    {
      "cell_type": "markdown",
      "metadata": {
        "id": "view-in-github",
        "colab_type": "text"
      },
      "source": [
        "<a href=\"https://colab.research.google.com/github/sinu7000/Software-Development/blob/main/Task_2.ipynb\" target=\"_parent\"><img src=\"https://colab.research.google.com/assets/colab-badge.svg\" alt=\"Open In Colab\"/></a>"
      ]
    },
    {
      "cell_type": "code",
      "execution_count": 4,
      "metadata": {
        "colab": {
          "base_uri": "https://localhost:8080/"
        },
        "id": "lhh52GxNSK6_",
        "outputId": "12265387-fb5c-4219-99fa-d3898c637ea7"
      },
      "outputs": [
        {
          "output_type": "stream",
          "name": "stdout",
          "text": [
            "Welcome to the Guessing Game!\n",
            "Guess the number (between 1 and 100): 50\n",
            "Too low! Try again.\n",
            "Guess the number (between 1 and 100): 80\n",
            "Too low! Try again.\n",
            "Guess the number (between 1 and 100): 90\n",
            "Too low! Try again.\n",
            "Guess the number (between 1 and 100): 85\n",
            "Too low! Try again.\n",
            "Guess the number (between 1 and 100): 88\n",
            "Too low! Try again.\n",
            "Guess the number (between 1 and 100): 89\n",
            "Too low! Try again.\n",
            "Guess the number (between 1 and 100): 90\n",
            "Too low! Try again.\n",
            "Guess the number (between 1 and 100): 100\n",
            "Too high! Try again.\n",
            "Guess the number (between 1 and 100): 95\n",
            "Too high! Try again.\n",
            "Guess the number (between 1 and 100): 93\n",
            "Too high! Try again.\n",
            "Guess the number (between 1 and 100): 91\n",
            "Congratulations! You've guessed the right number 91!\n",
            "It took you 11 attempts to guess the number.\n"
          ]
        }
      ],
      "source": [
        "import random\n",
        "\n",
        "def guessing_game():\n",
        "    print(\"Welcome to the Guessing Game!\")\n",
        "\n",
        "    secret_number = random.randint(1, 100)\n",
        "    attempts = 0\n",
        "    while True:\n",
        "\n",
        "        guess = int(input(\"Guess the number (between 1 and 100): \"))\n",
        "        attempts += 1\n",
        "\n",
        "        if guess < secret_number:\n",
        "            print(\"Too low! Try again.\")\n",
        "        elif guess > secret_number:\n",
        "            print(\"Too high! Try again.\")\n",
        "        else:\n",
        "            print(f\"Congratulations! You've guessed the right number {secret_number}!\")\n",
        "            print(f\"It took you {attempts} attempts to guess the number.\")\n",
        "            break\n",
        "\n",
        "\n",
        "guessing_game()\n"
      ]
    }
  ]
}