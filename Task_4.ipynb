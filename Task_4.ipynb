{
  "nbformat": 4,
  "nbformat_minor": 0,
  "metadata": {
    "colab": {
      "provenance": [],
      "authorship_tag": "ABX9TyMYh84mUrERHAoQk1OaWT9m",
      "include_colab_link": true
    },
    "kernelspec": {
      "name": "python3",
      "display_name": "Python 3"
    },
    "language_info": {
      "name": "python"
    }
  },
  "cells": [
    {
      "cell_type": "markdown",
      "metadata": {
        "id": "view-in-github",
        "colab_type": "text"
      },
      "source": [
        "<a href=\"https://colab.research.google.com/github/sinu7000/Software-Development/blob/main/Task_4.ipynb\" target=\"_parent\"><img src=\"https://colab.research.google.com/assets/colab-badge.svg\" alt=\"Open In Colab\"/></a>"
      ]
    },
    {
      "cell_type": "code",
      "execution_count": 3,
      "metadata": {
        "colab": {
          "base_uri": "https://localhost:8080/"
        },
        "id": "haHDFJTyZtO0",
        "outputId": "637c3e9a-3b47-416f-8e84-0a9bb07bd7b7"
      },
      "outputs": [
        {
          "output_type": "stream",
          "name": "stdout",
          "text": [
            "Sudoku puzzle solved successfully!\n",
            "[8, 5, 6, 7, 2, 4, 9, 1, 3]\n",
            "[2, 3, 4, 5, 1, 9, 6, 8, 7]\n",
            "[7, 1, 9, 3, 8, 6, 2, 5, 4]\n",
            "[6, 9, 2, 1, 7, 8, 3, 4, 5]\n",
            "[1, 8, 5, 9, 4, 3, 7, 2, 6]\n",
            "[3, 4, 7, 6, 5, 2, 8, 9, 1]\n",
            "[5, 6, 8, 2, 3, 1, 4, 7, 9]\n",
            "[4, 7, 3, 8, 9, 5, 1, 6, 2]\n",
            "[9, 2, 1, 4, 6, 7, 5, 3, 8]\n"
          ]
        }
      ],
      "source": [
        "\n",
        "def print_grid(grid):\n",
        "    for row in grid:\n",
        "        print(row)\n",
        "\n",
        "def is_valid(grid, row, col, num):\n",
        "\n",
        "    for i in range(9):\n",
        "        if grid[row][i] == num:\n",
        "            return False\n",
        "\n",
        "\n",
        "    for i in range(9):\n",
        "        if grid[i][col] == num:\n",
        "            return False\n",
        "\n",
        "\n",
        "    start_row = row - row % 3\n",
        "    start_col = col - col % 3\n",
        "    for i in range(3):\n",
        "        for j in range(3):\n",
        "            if grid[start_row + i][start_col + j] == num:\n",
        "                return False\n",
        "\n",
        "    return True\n",
        "\n",
        "\n",
        "def find_empty(grid):\n",
        "    for i in range(9):\n",
        "        for j in range(9):\n",
        "            if grid[i][j] == 0:\n",
        "                return i, j\n",
        "    return None\n",
        "\n",
        "def solve_sudoku(grid):\n",
        "    empty_cell = find_empty(grid)\n",
        "    if not empty_cell:\n",
        "        return True\n",
        "\n",
        "    row, col = empty_cell\n",
        "\n",
        "    for num in range(1, 10):\n",
        "        if is_valid(grid, row, col, num):\n",
        "            grid[row][col] = num\n",
        "\n",
        "            if solve_sudoku(grid):\n",
        "                return True\n",
        "\n",
        "\n",
        "            grid[row][col] = 0\n",
        "\n",
        "    return False\n",
        "sudoku_grid = [\n",
        "    [8, 0, 0, 0, 2, 0, 9, 1, 0],\n",
        "    [2, 3, 4, 5, 1, 0, 0, 0, 7],\n",
        "    [7, 1, 0, 0, 8, 0, 0, 5, 4],\n",
        "    [6, 0, 0, 1, 0, 0, 3, 0, 5],\n",
        "    [1, 8, 5, 0, 0, 0, 7, 2, 0],\n",
        "    [0, 4, 0, 6, 0, 2, 8, 0, 0],\n",
        "    [0, 6, 8, 0, 0, 0, 4, 0, 0],\n",
        "    [0, 0, 0, 0, 0, 0, 1, 6, 2],\n",
        "    [0, 0, 0, 4, 0, 7, 5, 3, 0]\n",
        "]\n",
        "\n",
        "if solve_sudoku(sudoku_grid):\n",
        "    print(\"Sudoku puzzle solved successfully!\")\n",
        "    print_grid(sudoku_grid)\n",
        "else:\n",
        "    print(\"No solution exists for the Sudoku puzzle.\")\n"
      ]
    }
  ]
}