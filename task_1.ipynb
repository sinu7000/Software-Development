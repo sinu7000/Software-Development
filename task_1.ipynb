{
  "nbformat": 4,
  "nbformat_minor": 0,
  "metadata": {
    "colab": {
      "provenance": [],
      "authorship_tag": "ABX9TyPxd6gRQo+1/bZgAnaTL9aM",
      "include_colab_link": true
    },
    "kernelspec": {
      "name": "python3",
      "display_name": "Python 3"
    },
    "language_info": {
      "name": "python"
    }
  },
  "cells": [
    {
      "cell_type": "markdown",
      "metadata": {
        "id": "view-in-github",
        "colab_type": "text"
      },
      "source": [
        "<a href=\"https://colab.research.google.com/github/sinu7000/Software-Development/blob/main/task_1.ipynb\" target=\"_parent\"><img src=\"https://colab.research.google.com/assets/colab-badge.svg\" alt=\"Open In Colab\"/></a>"
      ]
    },
    {
      "cell_type": "code",
      "execution_count": null,
      "metadata": {
        "colab": {
          "base_uri": "https://localhost:8080/"
        },
        "id": "ovwy3Cj7OK7F",
        "outputId": "afdb815c-1db8-49fb-d4b1-16edc9348ec4"
      },
      "outputs": [
        {
          "output_type": "stream",
          "name": "stdout",
          "text": [
            "Temperature Conversion Program\n",
            "Enter the temperature value: 37\n",
            "Enter the unit of measurement (C for Celsius, F for Fahrenheit, K for Kelvin): k\n",
            "37.0K is equal to -236.15°C and -393.07°F\n"
          ]
        }
      ],
      "source": [
        "def celsius_to_fahrenheit(celsius):\n",
        "    return (celsius * 9/5) + 32\n",
        "\n",
        "def celsius_to_kelvin(celsius):\n",
        "    return celsius + 273.15\n",
        "\n",
        "def fahrenheit_to_celsius(fahrenheit):\n",
        "    return (fahrenheit - 32) * 5/9\n",
        "\n",
        "def fahrenheit_to_kelvin(fahrenheit):\n",
        "    return (fahrenheit - 32) * 5/9 + 273.15\n",
        "\n",
        "def kelvin_to_celsius(kelvin):\n",
        "    return kelvin - 273.15\n",
        "\n",
        "def kelvin_to_fahrenheit(kelvin):\n",
        "    return (kelvin - 273.15) * 9/5 + 32\n",
        "\n",
        "\n",
        "def temperature_conversion():\n",
        "    print(\"Temperature Conversion Program\")\n",
        "    temperature = float(input(\"Enter the temperature value: \"))\n",
        "    unit = input(\"Enter the unit of measurement (C for Celsius, F for Fahrenheit, K for Kelvin): \").upper()\n",
        "\n",
        "    if unit == 'C':\n",
        "        fahrenheit = celsius_to_fahrenheit(temperature)\n",
        "        kelvin = celsius_to_kelvin(temperature)\n",
        "        print(f\"{temperature}°C is equal to {fahrenheit:.2f}°F and {kelvin:.2f}K\")\n",
        "\n",
        "    elif unit == 'F':\n",
        "        celsius = fahrenheit_to_celsius(temperature)\n",
        "        kelvin = fahrenheit_to_kelvin(temperature)\n",
        "        print(f\"{temperature}°F is equal to {celsius:.2f}°C and {kelvin:.2f}K\")\n",
        "\n",
        "    elif unit == 'K':\n",
        "        celsius = kelvin_to_celsius(temperature)\n",
        "        fahrenheit = kelvin_to_fahrenheit(temperature)\n",
        "        print(f\"{temperature}K is equal to {celsius:.2f}°C and {fahrenheit:.2f}°F\")\n",
        "\n",
        "    else:\n",
        "        print(\"Invalid unit entered! Please enter C, F, or K.\")\n",
        "\n",
        "temperature_conversion()\n"
      ]
    }
  ]
}